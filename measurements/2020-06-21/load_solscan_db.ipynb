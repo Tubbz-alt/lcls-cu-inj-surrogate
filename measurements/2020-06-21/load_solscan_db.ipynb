{
 "cells": [
  {
   "cell_type": "markdown",
   "metadata": {},
   "source": [
    "# How to open solenoid scan database"
   ]
  },
  {
   "cell_type": "code",
   "execution_count": 1,
   "metadata": {},
   "outputs": [],
   "source": [
    "import h5py"
   ]
  },
  {
   "cell_type": "code",
   "execution_count": 2,
   "metadata": {},
   "outputs": [],
   "source": [
    "# open file\n",
    "filename = 'cu_inj_yag02_solscan.h5'\n",
    "f        = h5py.File(filename, 'r') "
   ]
  },
  {
   "cell_type": "code",
   "execution_count": 3,
   "metadata": {},
   "outputs": [
    {
     "data": {
      "text/plain": [
       "<KeysViewHDF5 ['YAG02']>"
      ]
     },
     "execution_count": 3,
     "metadata": {},
     "output_type": "execute_result"
    }
   ],
   "source": [
    "# Top group name\n",
    "f.keys()"
   ]
  },
  {
   "cell_type": "markdown",
   "metadata": {},
   "source": [
    "# Beam data"
   ]
  },
  {
   "cell_type": "code",
   "execution_count": 4,
   "metadata": {},
   "outputs": [
    {
     "name": "stdout",
     "output_type": "stream",
     "text": [
      "<KeysViewHDF5 ['beam_data', 'pvdata']>\n",
      "2020-06-21T09:17:33.414252-07:00\n",
      "Solenoid scan last about 5 minutes, the timestamp is associated with the end of the scan.\n"
     ]
    }
   ],
   "source": [
    "# Load top group, look at keys\n",
    "top = f['YAG02']\n",
    "print(top.keys())\n",
    "print(top.attrs['isotime'])\n",
    "print(top.attrs['information'])"
   ]
  },
  {
   "cell_type": "code",
   "execution_count": 5,
   "metadata": {},
   "outputs": [
    {
     "name": "stdout",
     "output_type": "stream",
     "text": [
      "Each step is taken at a different solenoid value, the step number matches the index of the solenoid data. There are five samples per step, and several fit methods used to calculate the beam size. Fit methods are used as the name of the samaple set.\n"
     ]
    },
    {
     "data": {
      "text/plain": [
       "<KeysViewHDF5 ['SOLN:IN20:121:BCTRL', 'Step0', 'Step1', 'Step10', 'Step11', 'Step12', 'Step13', 'Step14', 'Step2', 'Step3', 'Step4', 'Step5', 'Step6', 'Step7', 'Step8', 'Step9']>"
      ]
     },
     "execution_count": 5,
     "metadata": {},
     "output_type": "execute_result"
    }
   ],
   "source": [
    "# load data\n",
    "beam_data = top['beam_data']\n",
    "print(beam_data.attrs['information'])\n",
    "beam_data.keys()"
   ]
  },
  {
   "cell_type": "code",
   "execution_count": 6,
   "metadata": {},
   "outputs": [
    {
     "name": "stdout",
     "output_type": "stream",
     "text": [
      "This is the pv changed during the scan and resulting values \n",
      "\n",
      "solenoid values: [0.449      0.45271429 0.45642857 0.46014286 0.46385714 0.46757143\n",
      " 0.47128571 0.475      0.47871429 0.48242857 0.48614286 0.48985714\n",
      " 0.49357143 0.49728571 0.501     ] \n",
      "\n",
      "<KeysViewHDF5 ['beam_sizes_x', 'beam_sizes_y']> \n",
      "\n",
      "<KeysViewHDF5 ['Asymmetric', 'Gaussian', 'RMS', 'RMS cut area', 'RMS cut peak', 'RMS floor', 'Super']> \n",
      "\n",
      "[860.67194008 844.94867466 845.98371763 859.13275959 845.30730778]\n"
     ]
    }
   ],
   "source": [
    "#There are 15 magnet settings (steps)\n",
    "# These are saved under the magent ctrl pv name\n",
    "solvals = beam_data['SOLN:IN20:121:BCTRL'][:]\n",
    "print(beam_data['SOLN:IN20:121:BCTRL'].attrs['information'], '\\n')\n",
    "print('solenoid values:', solvals, '\\n')\n",
    "\n",
    "\n",
    "#Each step has 5 samples (beam size was measured 5 times)\n",
    "#The beam size was fit with the standard matlab methods: \n",
    "#FIT = ['Gaussian', 'Asymmetric', 'Super', 'RMS', 'RMS cut peak', 'RMS cut area', 'RMS floor']\n",
    "step0       = beam_data['Step0']\n",
    "print(step0.keys(), '\\n')\n",
    "\n",
    "# Fits and beam sizes are seperated by dimension\n",
    "methods_x   = step0['beam_sizes_x']\n",
    "print(methods_x.keys(), '\\n')\n",
    "\n",
    "# Get raw values\n",
    "beamsizes_x0 = methods_x['Gaussian']\n",
    "print(beamsizes_x0[:])\n"
   ]
  },
  {
   "cell_type": "code",
   "execution_count": 7,
   "metadata": {},
   "outputs": [
    {
     "name": "stdout",
     "output_type": "stream",
     "text": [
      "[860.67194008 844.94867466 845.98371763 859.13275959 845.30730778]\n"
     ]
    }
   ],
   "source": [
    "# Get data from top\n",
    "xdata = f['YAG02/beam_data/Step0/beam_sizes_x/Gaussian']\n",
    "print(xdata[:])"
   ]
  },
  {
   "cell_type": "markdown",
   "metadata": {},
   "source": [
    "# PV data"
   ]
  },
  {
   "cell_type": "code",
   "execution_count": 8,
   "metadata": {},
   "outputs": [
    {
     "name": "stdout",
     "output_type": "stream",
     "text": [
      "<KeysViewHDF5 ['ACCL:IN20:300:L0A_PDES', 'ACCL:IN20:400:L0B_PDES', 'IRIS:LR20:130:MOTR_ANGLE', 'QUAD:IN20:121:BDES', 'QUAD:IN20:122:BDES', 'SOLN:IN20:121:BDES']>\n",
      "['0.0' '']\n",
      "['-2.5' '']\n",
      "['220.1999969482422' 'degree']\n",
      "['0.0025' 'kG']\n",
      "['0.0' 'kG']\n",
      "['0.449' 'kG-m']\n"
     ]
    }
   ],
   "source": [
    "pv_data  = top['pvdata']\n",
    "pv_names = pv_data.attrs.keys()\n",
    "print(pv_names)\n",
    "for name in pv_names:\n",
    "    print(pv_data.attrs[name])"
   ]
  },
  {
   "cell_type": "code",
   "execution_count": null,
   "metadata": {},
   "outputs": [],
   "source": []
  },
  {
   "cell_type": "code",
   "execution_count": null,
   "metadata": {},
   "outputs": [],
   "source": []
  }
 ],
 "metadata": {
  "kernelspec": {
   "display_name": "Python 3",
   "language": "python",
   "name": "python3"
  },
  "language_info": {
   "codemirror_mode": {
    "name": "ipython",
    "version": 3
   },
   "file_extension": ".py",
   "mimetype": "text/x-python",
   "name": "python",
   "nbconvert_exporter": "python",
   "pygments_lexer": "ipython3",
   "version": "3.7.6"
  }
 },
 "nbformat": 4,
 "nbformat_minor": 4
}

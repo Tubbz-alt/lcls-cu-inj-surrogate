{
 "cells": [
  {
   "cell_type": "code",
   "execution_count": 1,
   "metadata": {},
   "outputs": [],
   "source": [
    "from impact import Impact\n",
    "\n",
    "from distgen import Generator\n",
    "\n",
    "import numpy as np\n",
    "\n",
    "import os \n",
    "\n",
    "ROOT = os.environ['LCLS_LATTICE']"
   ]
  },
  {
   "cell_type": "code",
   "execution_count": 2,
   "metadata": {},
   "outputs": [],
   "source": [
    "# Nicer plotting\n",
    "import matplotlib.pyplot as plt\n",
    "import matplotlib\n",
    "%matplotlib inline\n",
    "%config InlineBackend.figure_format = 'retina'\n",
    "matplotlib.rcParams['figure.figsize'] = (8,4)"
   ]
  },
  {
   "cell_type": "markdown",
   "metadata": {},
   "source": [
    "# cu_inj Impact-T"
   ]
  },
  {
   "cell_type": "code",
   "execution_count": 3,
   "metadata": {},
   "outputs": [],
   "source": [
    "ifile = os.path.join(ROOT, 'impact/models/cu_inj/ImpactT.yaml')\n",
    "gfile = os.path.join(ROOT, 'distgen/models/cu_inj/distgen.yaml')\n",
    "assert os.path.exists(ifile)\n",
    "assert os.path.exists(gfile)\n"
   ]
  },
  {
   "cell_type": "code",
   "execution_count": 43,
   "metadata": {},
   "outputs": [],
   "source": [
    "I = Impact.from_yaml(ifile)"
   ]
  },
  {
   "cell_type": "markdown",
   "metadata": {},
   "source": [
    "# Check Energies"
   ]
  },
  {
   "cell_type": "code",
   "execution_count": 11,
   "metadata": {},
   "outputs": [
    {
     "data": {
      "text/plain": [
       "6000000.000536164"
      ]
     },
     "execution_count": 11,
     "metadata": {},
     "output_type": "execute_result"
    }
   ],
   "source": [
    "from impact.autophase import autophase_and_scale\n",
    "\n",
    "from pmd_beamphysics import single_particle\n",
    "\n",
    "P0 = single_particle(pz=1e-15, z=1e-15)\n",
    "\n",
    "# Energy out of the gun\n",
    "I.track(P0, s = 0.5)['mean_energy']"
   ]
  },
  {
   "cell_type": "code",
   "execution_count": 24,
   "metadata": {},
   "outputs": [
    {
     "data": {
      "text/plain": [
       "63999920.35416556"
      ]
     },
     "execution_count": 24,
     "metadata": {},
     "output_type": "execute_result"
    }
   ],
   "source": [
    "I.track(P0, s = I['L0A_exit']['s'])['mean_energy']"
   ]
  },
  {
   "cell_type": "code",
   "execution_count": 25,
   "metadata": {},
   "outputs": [
    {
     "data": {
      "text/plain": [
       "134998738.00281993"
      ]
     },
     "execution_count": 25,
     "metadata": {},
     "output_type": "execute_result"
    }
   ],
   "source": [
    "I.track(P0, s = I['L0B_exit']['s'])['mean_energy']"
   ]
  },
  {
   "cell_type": "code",
   "execution_count": 30,
   "metadata": {},
   "outputs": [
    {
     "data": {
      "text/plain": [
       "\u001b[0;31mSignature:\u001b[0m\n",
       "\u001b[0mautophase_and_scale\u001b[0m\u001b[0;34m(\u001b[0m\u001b[0;34m\u001b[0m\n",
       "\u001b[0;34m\u001b[0m    \u001b[0mimpact_object\u001b[0m\u001b[0;34m,\u001b[0m\u001b[0;34m\u001b[0m\n",
       "\u001b[0;34m\u001b[0m    \u001b[0mphase_ele_name\u001b[0m\u001b[0;34m=\u001b[0m\u001b[0;32mNone\u001b[0m\u001b[0;34m,\u001b[0m\u001b[0;34m\u001b[0m\n",
       "\u001b[0;34m\u001b[0m    \u001b[0mphase_attribute\u001b[0m\u001b[0;34m=\u001b[0m\u001b[0;34m'theta0_deg'\u001b[0m\u001b[0;34m,\u001b[0m\u001b[0;34m\u001b[0m\n",
       "\u001b[0;34m\u001b[0m    \u001b[0mscale_ele_name\u001b[0m\u001b[0;34m=\u001b[0m\u001b[0;32mNone\u001b[0m\u001b[0;34m,\u001b[0m\u001b[0;34m\u001b[0m\n",
       "\u001b[0;34m\u001b[0m    \u001b[0mscale_attribute\u001b[0m\u001b[0;34m=\u001b[0m\u001b[0;34m'rf_field_scale'\u001b[0m\u001b[0;34m,\u001b[0m\u001b[0;34m\u001b[0m\n",
       "\u001b[0;34m\u001b[0m    \u001b[0mphase_range\u001b[0m\u001b[0;34m=\u001b[0m\u001b[0;34m(\u001b[0m\u001b[0;34m-\u001b[0m\u001b[0;36m180\u001b[0m\u001b[0;34m,\u001b[0m \u001b[0;36m180\u001b[0m\u001b[0;34m)\u001b[0m\u001b[0;34m,\u001b[0m\u001b[0;34m\u001b[0m\n",
       "\u001b[0;34m\u001b[0m    \u001b[0mscale_range\u001b[0m\u001b[0;34m=\u001b[0m\u001b[0;34m(\u001b[0m\u001b[0;36m10000000.0\u001b[0m\u001b[0;34m,\u001b[0m \u001b[0;36m100000000.0\u001b[0m\u001b[0;34m)\u001b[0m\u001b[0;34m,\u001b[0m\u001b[0;34m\u001b[0m\n",
       "\u001b[0;34m\u001b[0m    \u001b[0minitial_particles\u001b[0m\u001b[0;34m=\u001b[0m\u001b[0;32mNone\u001b[0m\u001b[0;34m,\u001b[0m\u001b[0;34m\u001b[0m\n",
       "\u001b[0;34m\u001b[0m    \u001b[0misolate\u001b[0m\u001b[0;34m=\u001b[0m\u001b[0;32mTrue\u001b[0m\u001b[0;34m,\u001b[0m\u001b[0;34m\u001b[0m\n",
       "\u001b[0;34m\u001b[0m    \u001b[0mmetric\u001b[0m\u001b[0;34m=\u001b[0m\u001b[0;34m'mean_energy'\u001b[0m\u001b[0;34m,\u001b[0m\u001b[0;34m\u001b[0m\n",
       "\u001b[0;34m\u001b[0m    \u001b[0mtarget\u001b[0m\u001b[0;34m=\u001b[0m\u001b[0;36m6000000.0\u001b[0m\u001b[0;34m,\u001b[0m\u001b[0;34m\u001b[0m\n",
       "\u001b[0;34m\u001b[0m    \u001b[0mdebug\u001b[0m\u001b[0;34m=\u001b[0m\u001b[0;32mFalse\u001b[0m\u001b[0;34m,\u001b[0m\u001b[0;34m\u001b[0m\n",
       "\u001b[0;34m\u001b[0m    \u001b[0malgorithm\u001b[0m\u001b[0;34m=\u001b[0m\u001b[0;34m'brent2'\u001b[0m\u001b[0;34m,\u001b[0m\u001b[0;34m\u001b[0m\n",
       "\u001b[0;34m\u001b[0m    \u001b[0mverbose\u001b[0m\u001b[0;34m=\u001b[0m\u001b[0;32mFalse\u001b[0m\u001b[0;34m,\u001b[0m\u001b[0;34m\u001b[0m\n",
       "\u001b[0;34m\u001b[0m\u001b[0;34m)\u001b[0m\u001b[0;34m\u001b[0m\u001b[0;34m\u001b[0m\u001b[0m\n",
       "\u001b[0;31mDocstring:\u001b[0m\n",
       "Autophases and scales and element (or group).\n",
       "\n",
       "The bounds of the element are automatically determined. If scale or phase elements are groups, \n",
       "this will be taken into account.\n",
       "\n",
       "initial_particles should be a ParticleGroup, and will be tracked to the beginning of the bounds.\n",
       "\n",
       "if isolate, then any other elements with an rf_field_scale will be disabled. \n",
       "\n",
       "If debug, the phase_and_scale function and copied object will be returned.\n",
       "This is useful for algorithm development\n",
       "\u001b[0;31mFile:\u001b[0m      ~/Code/GitHub/lume-impact/impact/autophase.py\n",
       "\u001b[0;31mType:\u001b[0m      function\n"
      ]
     },
     "metadata": {},
     "output_type": "display_data"
    }
   ],
   "source": [
    "?autophase_and_scale"
   ]
  },
  {
   "cell_type": "markdown",
   "metadata": {},
   "source": [
    "# Gun Phasing"
   ]
  },
  {
   "cell_type": "code",
   "execution_count": null,
   "metadata": {},
   "outputs": [],
   "source": [
    "autophase_and_scale(I, phase_ele_name='GUN_phase', phase_attribute='dtheta0_deg', scale_ele_name='GUN_scale', scale_attribute='voltage', target=6e6, scale_range=(4e6, 6e6), metric='mean_energy', initial_particles=P0, verbose=True)"
   ]
  },
  {
   "cell_type": "code",
   "execution_count": null,
   "metadata": {},
   "outputs": [],
   "source": []
  },
  {
   "cell_type": "code",
   "execution_count": null,
   "metadata": {},
   "outputs": [],
   "source": [
    "# L0A, L0B"
   ]
  },
  {
   "cell_type": "code",
   "execution_count": 35,
   "metadata": {},
   "outputs": [
    {
     "name": "stdout",
     "output_type": "stream",
     "text": [
      "Copied initial Impact object. \n",
      "Phasing L0A_phase by changing dtheta0_deg\n",
      "Scaling L0A_scale by changing voltage\n",
      "Bounds: 1.485, 4.527856 m\n",
      "Tracking initial particles to s = 1.485\n",
      "Initial particle:  1.48506261613 6000000.000536164\n",
      "Disabling GUN\n",
      "Disabling SOL1\n",
      "Disabling L0B_entrance\n",
      "Disabling L0B_body_1\n",
      "Disabling L0B_body_2\n",
      "Disabling L0B_exit\n",
      "Default brent2 algorithm\n",
      "Phase: 180, Scale: 10000000.0, 5.6713624735421595 MeV\n",
      "Phase: 180, Scale: 10000000.0, 5.6713624735421595 MeV\n",
      "Phase: 42.49224000000004, Scale: 10000000.0, 12.366231916317817 MeV\n",
      "Phase: 264.9844890561601, Scale: 10000000.0, 7.739824370611267 MeV\n",
      "Phase: 42.49224000000004, Scale: 10000000.0, 12.366231916317817 MeV\n",
      "Phase: 42.49223440298533, Scale: 10000000.0, 12.366232728530246 MeV\n",
      "Phase: 264.9844709438398, Scale: 10000000.0, 7.739822159625939 MeV\n",
      "Phase: 222.49226880228161, Scale: 10000000.0, 4.761796485950503 MeV\n",
      "Phase: 127.47670402554945, Scale: 10000000.0, 4.125078050743394 MeV\n",
      "Phase: 333.73836754234685, Scale: 10000000.0, 15.405790338513398 MeV\n",
      "Phase: 291.2461401909991, Scale: 10000000.0, 11.153236806999972 MeV\n",
      "Phase: 7.0516375672013965e-06, Scale: 10000000.0, 15.924227358602568 MeV\n",
      "Phase: 353.42776703445065, Scale: 10000000.0, 15.984288666128274 MeV\n",
      "Phase: 354.5011948014951, Scale: 10000000.0, 15.983445485020557 MeV\n",
      "Phase: 352.3543392674062, Scale: 10000000.0, 15.981663258336587 MeV\n",
      "Step 1 phasing found: 353.42776703445065\n",
      "Phase: 353.42776703445065, Scale: 10000000.0, 15.984288666128274 MeV\n",
      "Phase: 353.42776703445065, Scale: 100000000.0, 105.12805055671754 MeV\n",
      "Phase: 353.42776703445065, Scale: 58476908.8537272, 64.09596489250174 MeV\n",
      "Phase: 353.42776703445065, Scale: 58379989.31375454, 64.00011378536537 MeV\n",
      "Phase: 353.42776703445065, Scale: 58350799.31909767, 63.97124547136957 MeV\n",
      "Step 2  scale found: 58379989.31375454\n",
      "Phase: 352.42776703445065, Scale: 58379989.31375454, 63.876143858529524 MeV\n",
      "Phase: 354.42776703445065, Scale: 58379989.31375454, 64.10672727088696 MeV\n",
      "Phase: 357.66383503445064, Scale: 58379989.31375454, 64.33196532521178 MeV\n",
      "Phase: 0.03407253554843237, Scale: 58379989.31375454, 64.38000358913366 MeV\n",
      "Phase: 3.8691974003996847, Scale: 58379989.31375454, 64.2467036927385 MeV\n",
      "Phase: 0.03407253554843237, Scale: 58379989.31375454, 64.38000358913366 MeV\n",
      "Phase: 1.4989598396762176, Scale: 58379989.31375454, 64.35995010729208 MeV\n",
      "Phase: 359.1287223982041, Scale: 58379989.31375454, 64.37337655363022 MeV\n",
      "Phase: 359.9943052691626, Scale: 58379989.31375454, 64.38001728670221 MeV\n",
      "Phase: 359.9947387160255, Scale: 58379989.31375454, 64.38001728874616 MeV\n",
      "Phase: 359.9950987107742, Scale: 58379989.31375454, 64.38001728721319 MeV\n",
      "Step 3 phase found:  359.9947387160255\n",
      "Phase: 359.9947387160255, Scale: 10000000.0, 15.924328160194495 MeV\n",
      "Phase: 359.9947387160255, Scale: 100000000.0, 105.98569580008842 MeV\n",
      "Phase: 359.9947387160255, Scale: 58042913.170972936, 64.04291410724302 MeV\n",
      "Phase: 359.9947387160255, Scale: 58000022.712905735, 64.00001996170607 MeV\n",
      "Phase: 359.9947387160255, Scale: 57999993.71289438, 63.99999095900879 MeV\n",
      "Step 4 scale found:  57999993.71289438\n",
      "Set Phase: 359.9947387160255, Scale: 57999993.71289438\n"
     ]
    },
    {
     "data": {
      "text/plain": [
       "(359.9947387160255, 57999993.71289438)"
      ]
     },
     "execution_count": 35,
     "metadata": {},
     "output_type": "execute_result"
    }
   ],
   "source": [
    "autophase_and_scale(I, phase_ele_name='L0A_phase', phase_attribute='dtheta0_deg', scale_ele_name='L0A_scale', scale_attribute='voltage',\n",
    "                    target=64e6, scale_range=(10e6, 100e6), initial_particles=P0, verbose=True, debug=False)"
   ]
  },
  {
   "cell_type": "code",
   "execution_count": 36,
   "metadata": {},
   "outputs": [
    {
     "name": "stdout",
     "output_type": "stream",
     "text": [
      "Copied initial Impact object. \n",
      "Phasing L0A_phase by changing dtheta0_deg\n",
      "Scaling L0A_scale by changing voltage\n",
      "Bounds: 1.485, 4.527856 m\n",
      "Tracking initial particles to s = 1.485\n",
      "Initial particle:  1.48506261613 6000000.000536164\n",
      "Disabling GUN\n",
      "Disabling SOL1\n",
      "Disabling L0B_entrance\n",
      "Disabling L0B_body_1\n",
      "Disabling L0B_body_2\n",
      "Disabling L0B_exit\n"
     ]
    }
   ],
   "source": [
    "ps_f, Itest = autophase_and_scale(I, phase_ele_name='L0A_phase', phase_attribute='dtheta0_deg', scale_ele_name='L0A_scale', scale_attribute='voltage',\n",
    "                    target=64e6, scale_range=(10e6, 100e6), initial_particles=P0, verbose=True, debug=True)"
   ]
  },
  {
   "cell_type": "code",
   "execution_count": 38,
   "metadata": {},
   "outputs": [
    {
     "name": "stdout",
     "output_type": "stream",
     "text": [
      "Phase: -2.0, Scale: 58000000.0, 63.96555513958215 MeV\n",
      "Phase: -1.5, Scale: 58000000.0, 63.980749418659144 MeV\n",
      "Phase: -1.0, Scale: 58000000.0, 63.99155786093261 MeV\n",
      "Phase: -0.5, Scale: 58000000.0, 63.997974975687065 MeV\n",
      "Phase: 0.0, Scale: 58000000.0, 63.99999560696211 MeV\n",
      "Phase: 0.5, Scale: 58000000.0, 63.997614932530766 MeV\n",
      "Phase: 1.0, Scale: 58000000.0, 63.99082846389954 MeV\n",
      "Phase: 1.5, Scale: 58000000.0, 63.97963204375375 MeV\n",
      "Phase: 2.0, Scale: 58000000.0, 63.96402184697981 MeV\n"
     ]
    },
    {
     "data": {
      "text/plain": [
       "<matplotlib.legend.Legend at 0x7f84f39e9fd0>"
      ]
     },
     "execution_count": 38,
     "metadata": {},
     "output_type": "execute_result"
    },
    {
     "data": {
      "image/png": "[encoded data removed]",
      "text/plain": [
       "<Figure size 576x288 with 1 Axes>"
      ]
     },
     "metadata": {
      "image/png": {
       "height": 277,
       "width": 516
      },
      "needs_background": "light"
     },
     "output_type": "display_data"
    }
   ],
   "source": [
    "# Phases to try\n",
    "ptry = np.linspace(-2, 2, 9)\n",
    "\n",
    "# scales to try\n",
    "sc = 58e6\n",
    "res = np.array([ps_f(p, sc)/1e6 for p in ptry])\n",
    "plt.plot(ptry, res, label=f'{sc/1e6:0.2f} MV')\n",
    "plt.title('Final energy for various phases and scales')\n",
    "plt.ylabel('Final energy (MeV)')\n",
    "plt.xlabel('phase (deg)')\n",
    "plt.legend()"
   ]
  },
  {
   "cell_type": "code",
   "execution_count": null,
   "metadata": {},
   "outputs": [],
   "source": [
    "# Get scale/voltage factor\n",
    "30048347.359377533/(64e6 - 6e6) * np.array( [0.86571945106805, 1, 1, 0.86571945106805])"
   ]
  },
  {
   "cell_type": "code",
   "execution_count": 44,
   "metadata": {},
   "outputs": [
    {
     "name": "stdout",
     "output_type": "stream",
     "text": [
      "Copied initial Impact object. \n",
      "Phasing L0B_phase by changing dtheta0_deg\n",
      "Scaling L0B_scale by changing voltage\n",
      "Bounds: 5.328756, 8.371612 m\n",
      "Tracking initial particles to s = 5.328756\n",
      "Initial particle:  5.32873202582 63999925.01489361\n",
      "Disabling GUN\n",
      "Disabling SOL1\n",
      "Disabling L0A_entrance\n",
      "Disabling L0A_body_1\n",
      "Disabling L0A_body_2\n",
      "Disabling L0A_exit\n",
      "Default brent2 algorithm\n",
      "Phase: 180, Scale: 50000000.0, 13.002927310209074 MeV\n",
      "Phase: 180, Scale: 50000000.0, 13.002927310209074 MeV\n",
      "Phase: 42.49224000000004, Scale: 50000000.0, 101.59136505495906 MeV\n",
      "Phase: 264.9844890561601, Scale: 50000000.0, 59.608022608620566 MeV\n",
      "Phase: 42.49224000000004, Scale: 50000000.0, 101.59136505495906 MeV\n",
      "Phase: 42.49223440298533, Scale: 50000000.0, 101.59136842346142 MeV\n",
      "Phase: 264.9844709438398, Scale: 50000000.0, 59.60800657336192 MeV\n",
      "Phase: 222.49225164365203, Scale: 50000000.0, 26.506310998626404 MeV\n",
      "Phase: 127.47670402554945, Scale: 50000000.0, 32.8632206529148 MeV\n",
      "Phase: 333.73836098833385, Scale: 50000000.0, 109.74125153070527 MeV\n",
      "Phase: 291.24612958638306, Scale: 50000000.0, 82.51512584632259 MeV\n",
      "Phase: 3.0010346563358326e-06, Scale: 50000000.0, 114.99874125017416 MeV\n",
      "Phase: 1.0800030040456932, Scale: 50000000.0, 114.98947122810077 MeV\n",
      "Phase: 358.9200029980236, Scale: 50000000.0, 114.98989198801814 MeV\n",
      "Step 1 phasing found: 3.0010346563358326e-06\n",
      "Phase: 3.0010346563358326e-06, Scale: 50000000.0, 114.99874125017416 MeV\n",
      "Phase: 3.0010346563358326e-06, Scale: 80000000.0, 145.00061198065268 MeV\n",
      "Phase: 3.0010346563358326e-06, Scale: 70000011.59545042, 135.00000736898264 MeV\n",
      "Phase: 3.0010346563358326e-06, Scale: 69965011.58965269, 134.96500519482623 MeV\n",
      "Step 2  scale found: 70000011.59545042\n",
      "Phase: 359.00000300103466, Scale: 70000011.59545042, 134.9892045538633 MeV\n",
      "Phase: 1.0000030010346563, Scale: 70000011.59545042, 134.98918322926644 MeV\n",
      "Phase: 355.76393500103467, Scale: 70000011.59545042, 134.80610337664046 MeV\n",
      "Phase: 359.00000300103466, Scale: 70000011.59545042, 134.9892045538633 MeV\n",
      "Phase: 357.76393505134666, Scale: 70000011.59545042, 134.94597012011013 MeV\n",
      "Phase: 359.76393500103467, Scale: 70000011.59545042, 134.9994072490098 MeV\n",
      "Phase: 359.99965325324325, Scale: 70000011.59545042, 135.00000737102664 MeV\n",
      "Phase: 359.99951566267595, Scale: 70000011.59545042, 135.00000737153766 MeV\n",
      "Phase: 359.99941286915384, Scale: 70000011.59545042, 135.00000737102664 MeV\n",
      "Phase: 359.9995330611986, Scale: 70000011.59545042, 135.00000737153766 MeV\n",
      "Phase: 359.99952436193723, Scale: 70000011.59545042, 135.00000737153766 MeV\n",
      "Phase: 359.9995210391152, Scale: 70000011.59545042, 135.00000737153766 MeV\n",
      "Phase: 359.99951898549824, Scale: 70000011.59545042, 135.00000737153766 MeV\n",
      "Phase: 359.9995177162931, Scale: 70000011.59545042, 135.00000737153766 MeV\n",
      "Phase: 359.99951693188115, Scale: 70000011.59545042, 135.00000737153766 MeV\n",
      "Phase: 359.9995164470879, Scale: 70000011.59545042, 135.00000737153766 MeV\n",
      "Phase: 359.99951614746925, Scale: 70000011.59545042, 135.00000737153766 MeV\n",
      "Phase: 359.99951596229465, Scale: 70000011.59545042, 135.00000737153766 MeV\n",
      "Phase: 359.9995158478505, Scale: 70000011.59545042, 135.00000737153766 MeV\n",
      "Phase: 359.9995157771201, Scale: 70000011.59545042, 135.00000737153766 MeV\n",
      "Phase: 359.9995157334063, Scale: 70000011.59545042, 135.00000737153766 MeV\n",
      "Phase: 359.99951570638973, Scale: 70000011.59545042, 135.00000737153766 MeV\n",
      "Phase: 359.99951568969254, Scale: 70000011.59545042, 135.00000737153766 MeV\n",
      "Phase: 359.99951567937313, Scale: 70000011.59545042, 135.00000737153766 MeV\n",
      "Step 3 phase found:  359.99951567937313\n",
      "Phase: 359.99951567937313, Scale: 50000000.0, 114.99874134113215 MeV\n",
      "Phase: 359.99951567937313, Scale: 80000000.0, 145.0006119244425 MeV\n",
      "Phase: 359.99951567937313, Scale: 70000011.60260417, 135.00000737869166 MeV\n",
      "Phase: 359.99951567937313, Scale: 69999976.60259837, 134.99997237612195 MeV\n",
      "Step 4 scale found:  70000011.60260417\n",
      "Set Phase: 359.99951567937313, Scale: 70000011.60260417\n"
     ]
    },
    {
     "data": {
      "text/plain": [
       "(359.99951567937313, 70000011.60260417)"
      ]
     },
     "execution_count": 44,
     "metadata": {},
     "output_type": "execute_result"
    }
   ],
   "source": [
    "autophase_and_scale(I, phase_ele_name='L0B_phase', phase_attribute='dtheta0_deg', scale_ele_name='L0B_scale', scale_attribute='voltage', target=135e6, scale_range=(50e6, 80e6), initial_particles=P0, verbose=True)"
   ]
  },
  {
   "cell_type": "markdown",
   "metadata": {},
   "source": [
    "# Integrated Solenoid field"
   ]
  },
  {
   "cell_type": "code",
   "execution_count": 45,
   "metadata": {},
   "outputs": [
    {
     "data": {
      "text/plain": [
       "dict_keys(['rfdata201', 'rfdata102', 'rfdata4', 'rfdata5', 'rfdata6', 'rfdata7'])"
      ]
     },
     "execution_count": 45,
     "metadata": {},
     "output_type": "execute_result"
    }
   ],
   "source": [
    "from impact import  fieldmaps\n",
    "import numpy as np\n",
    "\n",
    "# Fieldmaps are stored here\n",
    "I.input['fieldmaps'].keys()"
   ]
  },
  {
   "cell_type": "code",
   "execution_count": 46,
   "metadata": {},
   "outputs": [
    {
     "data": {
      "text/plain": [
       "{'description': 'name:SOL1',\n",
       " 'original': '0.49308 0 0 105 0.0 0.0 0.0 0.0 102 0.15 0.0 0.0 0.0 0.0 0.0 0.243 /!name:SOL1',\n",
       " 'L': 0.49308,\n",
       " 'type': 'solrf',\n",
       " 'zedge': 0.0,\n",
       " 'rf_field_scale': 0.0,\n",
       " 'rf_frequency': 0.0,\n",
       " 'theta0_deg': 0.0,\n",
       " 'filename': 'rfdata102',\n",
       " 'radius': 0.15,\n",
       " 'x_offset': 0.0,\n",
       " 'y_offset': 0.0,\n",
       " 'x_rotation': 0.0,\n",
       " 'y_rotation': 0.0,\n",
       " 'z_rotation': 0.0,\n",
       " 'solenoid_field_scale': 0.243,\n",
       " 's': 0.49308,\n",
       " 'name': 'SOL1'}"
      ]
     },
     "execution_count": 46,
     "metadata": {},
     "output_type": "execute_result"
    }
   ],
   "source": [
    "# Look at a solrf element. \n",
    "I.ele['SOL1']"
   ]
  },
  {
   "cell_type": "code",
   "execution_count": 47,
   "metadata": {},
   "outputs": [
    {
     "data": {
      "text/plain": [
       "{'Ez': {'z0': 0.0, 'z1': 0.0, 'L': 0.0, 'fourier_coefficients': array([0.])},\n",
       " 'Bz': {'z0': -0.53308,\n",
       "  'z1': 0.49308,\n",
       "  'L': 1.02616,\n",
       "  'fourier_coefficients': array([ 7.59104159e-01,  1.86860998e-01,  2.68209187e-09, -4.75732117e-01,\n",
       "          5.68488796e-09, -2.63303014e-01, -2.00685489e-10,  8.31385362e-02,\n",
       "         -1.07061180e-09,  3.32147505e-02,  3.34109023e-09, -4.03166145e-03,\n",
       "          2.36977653e-09,  7.55695585e-02,  7.03628508e-09,  4.05472421e-02,\n",
       "         -7.93679210e-09, -2.78630279e-02, -2.80674359e-08, -1.23309101e-02,\n",
       "         -1.21750197e-08, -1.11917490e-03,  2.72183881e-08, -1.76941899e-02,\n",
       "          2.07775590e-08, -6.82928971e-03, -4.64611502e-09,  9.04327137e-03,\n",
       "         -2.74644209e-08,  3.46208848e-03,  1.22819960e-08,  4.56318358e-04,\n",
       "          2.11520498e-08,  4.27450120e-03, -2.88644504e-08,  7.52482987e-04,\n",
       "         -3.59752217e-08, -2.87393685e-03,  1.26542743e-08, -8.38592686e-04,\n",
       "          3.01815044e-08, -1.30737597e-04, -9.86177028e-09, -1.04357300e-03,\n",
       "         -6.63856936e-09, -2.53914168e-06,  2.18126093e-08,  8.16316559e-04,\n",
       "         -9.00342349e-09,  1.78532652e-04, -3.75346464e-08, -1.85656369e-05,\n",
       "          1.66112357e-08,  2.70906299e-04,  4.30436466e-08, -6.91061736e-05,\n",
       "          1.79889178e-08, -3.21395974e-04, -3.28634884e-08, -6.26834704e-05,\n",
       "          4.78721227e-08,  4.53788783e-05, -2.40687516e-08, -7.00121686e-05,\n",
       "         -1.09529996e-08,  5.88552784e-06, -3.18410200e-08,  9.16404141e-05,\n",
       "          2.20705961e-08, -1.40213052e-05,  8.62505486e-08, -7.90063994e-05,\n",
       "          1.80561930e-08,  9.73707320e-06, -3.55099131e-08, -3.24265398e-05,\n",
       "          8.04201228e-09, -2.52641442e-05,  2.39895303e-08,  7.72642702e-07,\n",
       "         -1.86279094e-08,  3.37057351e-05, -5.60221048e-08,  8.99206468e-06,\n",
       "          3.60553118e-08, -1.69794491e-05,  4.76241852e-08, -8.20592718e-06,\n",
       "         -3.75317080e-08, -1.46785073e-05, -1.35667390e-08, -8.04441471e-06,\n",
       "          9.17261718e-08, -3.13719566e-05,  5.84058221e-08, -4.49735425e-06,\n",
       "         -1.30484352e-07, -1.47358475e-05, -1.10775372e-07,  1.89208186e-05,\n",
       "          5.67838231e-08, -3.75811096e-05,  6.90257455e-08, -2.31210131e-05,\n",
       "         -2.80681931e-08,  4.15569850e-07, -3.99391984e-08,  2.35273720e-05,\n",
       "          1.13469662e-07, -2.13950099e-05,  1.17155810e-08, -2.05874941e-05,\n",
       "         -6.31687124e-08,  2.11433614e-05, -9.36452667e-08, -3.11181571e-05,\n",
       "         -6.42682642e-08, -1.59322792e-05, -1.78752181e-08])}}"
      ]
     },
     "execution_count": 47,
     "metadata": {},
     "output_type": "execute_result"
    }
   ],
   "source": [
    "# That data is here. \n",
    "rdfata = I.input['fieldmaps']['rfdata102']\n",
    "\n",
    "#This will process the fieldmap to extract Ez and Bz\n",
    "fmap = fieldmaps.process_fieldmap_solrf(rdfata['data'])\n",
    "fmap"
   ]
  },
  {
   "cell_type": "code",
   "execution_count": 48,
   "metadata": {},
   "outputs": [
    {
     "data": {
      "text/plain": [
       "0.006497827018878065"
      ]
     },
     "execution_count": 48,
     "metadata": {},
     "output_type": "execute_result"
    }
   ],
   "source": [
    "# Reconstruction function\n",
    "fieldmaps.fieldmap_reconsruction(fmap['Bz'], 0)"
   ]
  },
  {
   "cell_type": "code",
   "execution_count": 49,
   "metadata": {},
   "outputs": [
    {
     "data": {
      "text/plain": [
       "0.19496156156156158"
      ]
     },
     "execution_count": 49,
     "metadata": {},
     "output_type": "execute_result"
    }
   ],
   "source": [
    "zmax = 0.49308\n",
    "\n",
    "zlist = np.linspace(0, zmax, 1000)\n",
    "fieldlist = [fieldmaps.fieldmap_reconsruction(fmap['Bz'], z) for z in zlist]\n",
    "\n",
    "# z at max field\n",
    "zlist[np.argmax(np.array(fieldlist))]"
   ]
  },
  {
   "cell_type": "code",
   "execution_count": 50,
   "metadata": {},
   "outputs": [
    {
     "data": {
      "text/plain": [
       "[<matplotlib.lines.Line2D at 0x7f84f5ff1850>]"
      ]
     },
     "execution_count": 50,
     "metadata": {},
     "output_type": "execute_result"
    },
    {
     "data": {
      "image/png": "[encoded data removed]",
      "text/plain": [
       "<Figure size 576x288 with 1 Axes>"
      ]
     },
     "metadata": {
      "image/png": {
       "height": 248,
       "width": 483
      },
      "needs_background": "light"
     },
     "output_type": "display_data"
    }
   ],
   "source": [
    "plt.plot(zlist, fieldlist)"
   ]
  },
  {
   "cell_type": "code",
   "execution_count": 51,
   "metadata": {},
   "outputs": [
    {
     "data": {
      "text/plain": [
       "1.944494711358167"
      ]
     },
     "execution_count": 51,
     "metadata": {},
     "output_type": "execute_result"
    }
   ],
   "source": [
    "# Integrated field (approximate)\n",
    "dz = zmax/1000\n",
    "BL = np.sum(fieldlist)*dz  # T*m\n",
    "\n",
    "# \n",
    "BL * 10 # T*m -> kG*m"
   ]
  },
  {
   "cell_type": "code",
   "execution_count": 52,
   "metadata": {},
   "outputs": [
    {
     "data": {
      "text/plain": [
       "0.5142724195436521"
      ]
     },
     "execution_count": 52,
     "metadata": {},
     "output_type": "execute_result"
    }
   ],
   "source": [
    "# Factor to convert BL in kG*m to Bmax in T\n",
    "1/(BL * 10 )"
   ]
  },
  {
   "cell_type": "markdown",
   "metadata": {},
   "source": [
    "# Corrector Quads"
   ]
  },
  {
   "cell_type": "code",
   "execution_count": 53,
   "metadata": {},
   "outputs": [
    {
     "data": {
      "text/plain": [
       "{'description': 'name:CQ01',\n",
       " 'original': '0.36 0 0 1 0.01601  0.0 0.210 0.0254 0.0 0.0 0.0 0.0 0 /!name:CQ01',\n",
       " 'L': 0.36,\n",
       " 'type': 'quadrupole',\n",
       " 'zedge': 0.01601,\n",
       " 'b1_gradient': 0.0,\n",
       " 'L_effective': 0.21,\n",
       " 'radius': 0.0254,\n",
       " 'x_offset': 0.0,\n",
       " 'y_offset': 0.0,\n",
       " 'x_rotation': 0.0,\n",
       " 'y_rotation': 0.0,\n",
       " 'z_rotation': 0.0,\n",
       " 's': 0.37601,\n",
       " 'name': 'CQ01'}"
      ]
     },
     "execution_count": 53,
     "metadata": {},
     "output_type": "execute_result"
    }
   ],
   "source": [
    "ele = I.ele['CQ01']\n",
    "ele"
   ]
  },
  {
   "cell_type": "code",
   "execution_count": 54,
   "metadata": {},
   "outputs": [
    {
     "data": {
      "text/plain": [
       "0.0"
      ]
     },
     "execution_count": 54,
     "metadata": {},
     "output_type": "execute_result"
    }
   ],
   "source": [
    "I['CQ01:b1_gradient']"
   ]
  },
  {
   "cell_type": "code",
   "execution_count": 55,
   "metadata": {},
   "outputs": [
    {
     "data": {
      "text/plain": [
       "0.4761904761904762"
      ]
     },
     "execution_count": 55,
     "metadata": {},
     "output_type": "execute_result"
    }
   ],
   "source": [
    "# Factor to convert kG to T/m\n",
    "0.1/ele['L_effective'] "
   ]
  },
  {
   "cell_type": "markdown",
   "metadata": {},
   "source": [
    "# OLD"
   ]
  },
  {
   "cell_type": "code",
   "execution_count": null,
   "metadata": {},
   "outputs": [],
   "source": [
    "I0 = Impact.from_yaml(ifile)"
   ]
  },
  {
   "cell_type": "code",
   "execution_count": null,
   "metadata": {},
   "outputs": [],
   "source": []
  },
  {
   "cell_type": "code",
   "execution_count": 56,
   "metadata": {},
   "outputs": [
    {
     "data": {
      "image/png": "[encoded data removed]",
      "text/plain": [
       "<Figure size 576x288 with 1 Axes>"
      ]
     },
     "metadata": {
      "image/png": {
       "height": 261,
       "width": 494
      },
      "needs_background": "light"
     },
     "output_type": "display_data"
    }
   ],
   "source": [
    "G = Generator(gfile)\n",
    "G['n_particle'] = 10000\n",
    "G.run()\n",
    "P0 = G.particles\n",
    "P0.plot('t')"
   ]
  },
  {
   "cell_type": "code",
   "execution_count": 57,
   "metadata": {},
   "outputs": [
    {
     "data": {
      "text/plain": [
       "<ParticleGroup with 10000 particles at 0x7f84f6725750>"
      ]
     },
     "execution_count": 57,
     "metadata": {},
     "output_type": "execute_result"
    }
   ],
   "source": [
    "P0"
   ]
  },
  {
   "cell_type": "code",
   "execution_count": null,
   "metadata": {},
   "outputs": [
    {
     "name": "stdout",
     "output_type": "stream",
     "text": [
      "Removed element: stop_1\n",
      "Set stop to s = 8\n",
      "Running Impact-T in /var/folders/wj/lfgr01993dx79p9cm_skykbw0000gn/T/tmpwv1p0bou\n",
      "writing 10000 particles to /var/folders/wj/lfgr01993dx79p9cm_skykbw0000gn/T/tmpwv1p0bou/partcl.data\n",
      "Cathode start with cathode_kinetic_energy_ref = 1.0 eV\n",
      "Cathode start: Replaced Np with 10000 according to initial particles\n",
      "Cathode start: Replaced Bkenergy with 1.0 according to initial particles\n",
      "Cathode start: Replaced Temission with 7.183946503142835e-12 according to initial particles\n",
      "Cathode start: Replaced Tini with -3.5632234226414296e-12 according to initial particles\n",
      " !-----------------------------------------------------------\n",
      " ! IMPACT-T Parallel Beam Dynamics Tracking Code: 2.0 beta version\n",
      " ! Copyright of The Regents of the University of California\n",
      " !-----------------------------------------------------------\n",
      " nblem:           60          60\n",
      " pass setting up lattice...\n",
      " check randomness:            0  0.79479214134216858     \n",
      " avgpts, jlow, and jhigh:        10000           1       10000\n",
      " sumx1,sumy1:   -3.1448368215114540E-019   6.5744929713996987E-019\n",
      " pass generating initial distribution...\n",
      " tstop:    8.0000000000000000     \n",
      " i,t,<z>:            1  -3.5632234226414296E-012   0.0000000000000000     \n",
      " zmin,zmax:    0.0000000000000000       -4.2522660351381330E-009\n",
      " i,t,<z>:            2  -3.5452635563835723E-012  -2.1133338725359290E-006\n",
      " zmin,zmax:    4.2208854605393755        4.2225175165284448, elapsed: 305.299630880355832795295715459744i,t,<z>:         7949   3.7776207230798502E-009   1.1225423153364886, elapsed: 77.87208676338196i,t,<z>:        13331   6.4686207230829016E-009   1.9271941878726273, elapsed: 113.99902009963989"
     ]
    }
   ],
   "source": [
    "%%time\n",
    "I = Impact.from_yaml(ifile)\n",
    "I.configure()\n",
    "I.initial_particles = P0\n",
    "I.total_charge=0\n",
    "I.verbose=True\n",
    "I.stop=8\n",
    "I.run()\n",
    "I.plot('mean_kinetic_energy')"
   ]
  },
  {
   "cell_type": "markdown",
   "metadata": {},
   "source": [
    "# Parallel run"
   ]
  },
  {
   "cell_type": "code",
   "execution_count": null,
   "metadata": {},
   "outputs": [],
   "source": [
    "G = Generator(gfile)\n",
    "G['n_particle'] = 2000\n",
    "G.run()\n",
    "P0 = G.particles\n",
    "P0.plot('t')"
   ]
  },
  {
   "cell_type": "code",
   "execution_count": null,
   "metadata": {},
   "outputs": [],
   "source": [
    "?Impact"
   ]
  },
  {
   "cell_type": "code",
   "execution_count": null,
   "metadata": {},
   "outputs": [],
   "source": [
    "I = Impact(input_file=ifile, initial_particles = P0, verbose=False, use_tempdir=False, workdir='/Users/chrisonian/Scratch/temp')\n",
    "\n",
    "# Make new elements\n",
    "def new_write_beam(s, i, sample_frequency=1):\n",
    "    if i in [40, 50]:\n",
    "        print('Warning: will overwrite standard output files')\n",
    "    ele = {'type':'write_beam', 'sample_frequency':sample_frequency}\n",
    "    ele['filename'] = 'fort.'+str(i)\n",
    "    ele['name'] = 'write_beam_'+str(i)\n",
    "    ele['s'] = s\n",
    "    return ele\n",
    "def new_write_beams(slist, istart, sample_frequency=1):\n",
    "    eles = []\n",
    "    if len(slist) > 100:\n",
    "        print('Warning: the maximum number of phase-space files which can be output is 100.')\n",
    "    i = istart\n",
    "    for s in slist:\n",
    "        ele = new_write_beam(s, i, sample_frequency)\n",
    "        eles.append(ele)\n",
    "        i += 1\n",
    "    return eles\n",
    "slist = np.linspace(0.001, 4, 99)\n",
    "neweles = new_write_beams(slist, 100)"
   ]
  },
  {
   "cell_type": "code",
   "execution_count": null,
   "metadata": {},
   "outputs": [],
   "source": [
    "# Change some things\n",
    "I.header['Nx'] = 32\n",
    "I.header['Ny'] = 32\n",
    "I.header['Nz'] = 32\n",
    "I.header['Dt'] = 5e-13\n",
    "I.stop = 15\n",
    "\n",
    "# Set parallel domain\n",
    "I.header['Npcol'] = 1\n",
    "I.header['Nprow'] = 4\n",
    "\n",
    "# Turn on MPI switches\n",
    "I.use_mpi=True\n",
    "I.impact_bin = '$IMPACTT_MPI_BIN'\n",
    "I.mpi_exe = 'mpirun' \n",
    "\n",
    "I.write_input()"
   ]
  },
  {
   "cell_type": "code",
   "execution_count": null,
   "metadata": {},
   "outputs": [],
   "source": []
  }
 ],
 "metadata": {
  "kernelspec": {
   "display_name": "Python 3",
   "language": "python",
   "name": "python3"
  },
  "language_info": {
   "codemirror_mode": {
    "name": "ipython",
    "version": 3
   },
   "file_extension": ".py",
   "mimetype": "text/x-python",
   "name": "python",
   "nbconvert_exporter": "python",
   "pygments_lexer": "ipython3",
   "version": "3.7.6"
  }
 },
 "nbformat": 4,
 "nbformat_minor": 4
}
